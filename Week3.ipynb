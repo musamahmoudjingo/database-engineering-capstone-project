{
 "cells": [
  {
   "cell_type": "markdown",
   "id": "b0ef41a9-bc04-4803-9874-6be7fafe1a13",
   "metadata": {},
   "source": [
    "### Step One: install mysql-connector-python"
   ]
  },
  {
   "cell_type": "code",
   "execution_count": 1,
   "id": "9bc692fa-76be-4c18-b06d-997549823c91",
   "metadata": {},
   "outputs": [
    {
     "name": "stdout",
     "output_type": "stream",
     "text": [
      "Requirement already satisfied: mysql-connector-python in /Library/Frameworks/Python.framework/Versions/3.11/lib/python3.11/site-packages (8.2.0)\n",
      "Requirement already satisfied: protobuf<=4.21.12,>=4.21.1 in /Library/Frameworks/Python.framework/Versions/3.11/lib/python3.11/site-packages (from mysql-connector-python) (4.21.12)\n",
      "\n",
      "\u001b[1m[\u001b[0m\u001b[34;49mnotice\u001b[0m\u001b[1;39;49m]\u001b[0m\u001b[39;49m A new release of pip is available: \u001b[0m\u001b[31;49m23.3.1\u001b[0m\u001b[39;49m -> \u001b[0m\u001b[32;49m23.3.2\u001b[0m\n",
      "\u001b[1m[\u001b[0m\u001b[34;49mnotice\u001b[0m\u001b[1;39;49m]\u001b[0m\u001b[39;49m To update, run: \u001b[0m\u001b[32;49mpip install --upgrade pip\u001b[0m\n"
     ]
    }
   ],
   "source": [
    "!pip install mysql-connector-python"
   ]
  },
  {
   "cell_type": "markdown",
   "id": "8037a091-4ebb-4896-8c16-7cba277a18f3",
   "metadata": {},
   "source": [
    "### Import the connector under the alias connector"
   ]
  },
  {
   "cell_type": "code",
   "execution_count": 10,
   "id": "9ff01e1b-3b5f-42c0-82c0-63cd0c7e28b1",
   "metadata": {},
   "outputs": [],
   "source": [
    "import mysql.connector as connector"
   ]
  },
  {
   "cell_type": "markdown",
   "id": "cad67bee-e8b8-46cc-addf-ac93abba43af",
   "metadata": {},
   "source": [
    "### Connect to the database"
   ]
  },
  {
   "cell_type": "code",
   "execution_count": 11,
   "id": "3908cbda-5932-4e90-a369-f66c21a62df6",
   "metadata": {},
   "outputs": [
    {
     "name": "stdout",
     "output_type": "stream",
     "text": [
      "Connected successfuly\n",
      "Current database is: littlelemondm\n",
      "Cursor create.\n"
     ]
    }
   ],
   "source": [
    "connection = connector.connect(\n",
    "    user= 'root',\n",
    "    password= 'password',\n",
    "    database='LittleLemonDM'\n",
    ")\n",
    "\n",
    "print('Connected successfuly')\n",
    "print('Current database is:', connection.database)\n",
    "\n",
    "cursor = connection.cursor()\n",
    "print('Cursor create.')"
   ]
  },
  {
   "cell_type": "markdown",
   "id": "16809906-11d3-4a5a-a816-ed27ccd64bc9",
   "metadata": {},
   "source": [
    "### Show tables"
   ]
  },
  {
   "cell_type": "code",
   "execution_count": 5,
   "id": "fc7adb05-64da-459c-b648-a9f42d4fe14e",
   "metadata": {},
   "outputs": [
    {
     "name": "stdout",
     "output_type": "stream",
     "text": [
      "Tables Names \n",
      "\n",
      "Bookings\n",
      "Customers\n",
      "Menu\n",
      "Orders\n",
      "OrdersItems\n",
      "OrderStatus\n",
      "ordersview\n",
      "Staff\n",
      "Tables\n"
     ]
    }
   ],
   "source": [
    "show_tables_query = 'SHOW TABLES' \n",
    "cursor.execute(show_tables_query)\n",
    "\n",
    "rows = cursor.fetchall()\n",
    "print('Tables Names \\n')\n",
    "for row in rows:\n",
    "    print(row[0])"
   ]
  },
  {
   "cell_type": "markdown",
   "id": "b935c67c-7fb6-4e9e-8b52-cb5d7aaec999",
   "metadata": {},
   "source": [
    "### Query with table JOIN"
   ]
  },
  {
   "cell_type": "code",
   "execution_count": 20,
   "id": "cf2c227f-6ba4-4786-8e21-1f882db0a54d",
   "metadata": {},
   "outputs": [
    {
     "name": "stdout",
     "output_type": "stream",
     "text": [
      "Customers with order over GBP 30.\n",
      "\n",
      "Customer ID: 238\n",
      "Name: Lewes Devonish\n",
      "Phone Number: 869-627-5324\n",
      "Order Total: 37.85\n",
      "\n",
      "Customer ID: 41\n",
      "Name: Saxon Guillot\n",
      "Phone Number: 608-323-9262\n",
      "Order Total: 36.85\n",
      "\n",
      "Customer ID: 281\n",
      "Name: Mariel De Domenicis\n",
      "Phone Number: 444-347-8788\n",
      "Order Total: 35.89\n",
      "\n",
      "Customer ID: 261\n",
      "Name: Gates Woodroff\n",
      "Phone Number: 400-630-3278\n",
      "Order Total: 35.65\n",
      "\n",
      "Customer ID: 134\n",
      "Name: Alaric Satterlee\n",
      "Phone Number: 756-946-9906\n",
      "Order Total: 34.85\n",
      "\n",
      "Customer ID: 183\n",
      "Name: Holt De Bruijne\n",
      "Phone Number: 386-467-1872\n",
      "Order Total: 33.93\n",
      "\n",
      "Customer ID: 6\n",
      "Name: Marilee Hambelton\n",
      "Phone Number: None\n",
      "Order Total: 33.89\n",
      "\n",
      "Customer ID: 445\n",
      "Name: Franky Gothrup\n",
      "Phone Number: 346-687-4741\n",
      "Order Total: 33.89\n",
      "\n",
      "Customer ID: 442\n",
      "Name: Aviva Custed\n",
      "Phone Number: None\n",
      "Order Total: 33.85\n",
      "\n",
      "Customer ID: 50\n",
      "Name: Karlyn Nangle\n",
      "Phone Number: 294-448-0575\n",
      "Order Total: 33.65\n",
      "\n",
      "Customer ID: 426\n",
      "Name: Jacquie Heinsh\n",
      "Phone Number: 318-110-0734\n",
      "Order Total: 33.65\n",
      "\n",
      "Customer ID: 465\n",
      "Name: Valenka Grindell\n",
      "Phone Number: 608-983-8562\n",
      "Order Total: 33.35\n",
      "\n",
      "Customer ID: 302\n",
      "Name: Elyssa Lovat\n",
      "Phone Number: 706-725-4061\n",
      "Order Total: 32.89\n",
      "\n",
      "Customer ID: 332\n",
      "Name: Merna Birkbeck\n",
      "Phone Number: None\n",
      "Order Total: 32.89\n",
      "\n",
      "Customer ID: 67\n",
      "Name: Annette Lyness\n",
      "Phone Number: 442-354-4346\n",
      "Order Total: 32.85\n",
      "\n",
      "Customer ID: 408\n",
      "Name: Robin Code\n",
      "Phone Number: 356-636-6326\n",
      "Order Total: 32.85\n",
      "\n",
      "Customer ID: 369\n",
      "Name: Bellina Derkes\n",
      "Phone Number: None\n",
      "Order Total: 32.40\n",
      "\n",
      "Customer ID: 268\n",
      "Name: Alastair Battabee\n",
      "Phone Number: 514-846-4312\n",
      "Order Total: 31.89\n",
      "\n",
      "Customer ID: 9\n",
      "Name: Bruis Jenkinson\n",
      "Phone Number: 825-487-6980\n",
      "Order Total: 31.69\n",
      "\n",
      "Customer ID: 19\n",
      "Name: Bobby Alvarado\n",
      "Phone Number: 882-209-9988\n",
      "Order Total: 31.65\n",
      "\n",
      "Customer ID: 313\n",
      "Name: Neall Iacabucci\n",
      "Phone Number: 754-895-7882\n",
      "Order Total: 31.65\n",
      "\n",
      "Customer ID: 56\n",
      "Name: Mandie Gransden\n",
      "Phone Number: 371-887-7992\n",
      "Order Total: 30.90\n",
      "\n",
      "Customer ID: 154\n",
      "Name: Nikki felip\n",
      "Phone Number: 395-660-9958\n",
      "Order Total: 30.69\n",
      "\n",
      "Customer ID: 33\n",
      "Name: Joyous Dickerson\n",
      "Phone Number: 597-222-7453\n",
      "Order Total: 30.65\n",
      "\n",
      "Customer ID: 239\n",
      "Name: Donny Semor\n",
      "Phone Number: 813-599-5965\n",
      "Order Total: 30.65\n",
      "\n",
      "Customer ID: 326\n",
      "Name: Zacharias Crossan\n",
      "Phone Number: None\n",
      "Order Total: 30.65\n",
      "\n",
      "Customer ID: 302\n",
      "Name: Elyssa Lovat\n",
      "Phone Number: 706-725-4061\n",
      "Order Total: 30.45\n",
      "\n",
      "Customer ID: 467\n",
      "Name: Stavros McMichell\n",
      "Phone Number: 670-583-4990\n",
      "Order Total: 30.40\n",
      "\n",
      "Customer ID: 122\n",
      "Name: Judah Prout\n",
      "Phone Number: 825-312-2757\n",
      "Order Total: 30.15\n",
      "\n",
      "Customer ID: 47\n",
      "Name: Layla Stainton\n",
      "Phone Number: None\n",
      "Order Total: 30.15\n",
      "\n",
      "Customer ID: 276\n",
      "Name: Chauncey Alu\n",
      "Phone Number: None\n",
      "Order Total: 30.15\n",
      "\n",
      "Customer ID: 9\n",
      "Name: Bruis Jenkinson\n",
      "Phone Number: 825-487-6980\n",
      "Order Total: 30.15\n",
      "\n"
     ]
    }
   ],
   "source": [
    "query_customer_wt_orders_gte_30 = '''\n",
    "SELECT\n",
    "    Customers.CustomerID AS CustomerID,\n",
    "    Customers.Name AS CustomerName,\n",
    "    Customers.PhoneNumber AS PhoneNumber,\n",
    "    SUM(Menu.Price) AS Cost\n",
    "FROM OrdersItems\n",
    "INNER JOIN Menu ON OrdersItems.ItemID = Menu.ItemID\n",
    "INNER JOIN Orders ON OrdersItems.OrderID = Orders.OrderID\n",
    "INNER JOIN Customers ON Orders.CustomerID = Customers.CustomerID\n",
    "GROUP BY OrdersItems.OrderID\n",
    "HAVING Cost > 30\n",
    "ORDER BY Cost DESC\n",
    "'''\n",
    "\n",
    "cursor.execute(query_customer_wt_orders_gte_30)\n",
    "results = cursor.fetchall()\n",
    "\n",
    "print('Customers with order over GBP 30.\\n')\n",
    "for customer in results:\n",
    "    print(f'Customer ID: {customer[0]}')\n",
    "    print(f'Name: {customer[1]}')\n",
    "    print(f'Phone Number: {customer[2]}')\n",
    "    print(f'Order Total: {customer[3]}\\n')"
   ]
  },
  {
   "cell_type": "markdown",
   "id": "8216a4b7-b55f-4246-809a-61289bf3dca3",
   "metadata": {},
   "source": [
    "## Close the cursor and connection"
   ]
  },
  {
   "cell_type": "code",
   "execution_count": 7,
   "id": "96b2265c-0baf-42c9-b5e7-a0735cda3700",
   "metadata": {},
   "outputs": [
    {
     "name": "stdout",
     "output_type": "stream",
     "text": [
      "Cursor closed\n",
      "Connection closed\n"
     ]
    }
   ],
   "source": [
    "cursor.close()\n",
    "print('Cursor closed')\n",
    "connection.close()\n",
    "print('Connection closed')"
   ]
  }
 ],
 "metadata": {
  "kernelspec": {
   "display_name": "Python 3 (ipykernel)",
   "language": "python",
   "name": "python3"
  },
  "language_info": {
   "codemirror_mode": {
    "name": "ipython",
    "version": 3
   },
   "file_extension": ".py",
   "mimetype": "text/x-python",
   "name": "python",
   "nbconvert_exporter": "python",
   "pygments_lexer": "ipython3",
   "version": "3.11.3"
  }
 },
 "nbformat": 4,
 "nbformat_minor": 5
}
